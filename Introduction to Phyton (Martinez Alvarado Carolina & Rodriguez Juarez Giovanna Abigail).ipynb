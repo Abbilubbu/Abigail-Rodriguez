{
 "cells": [
  {
   "cell_type": "markdown",
   "metadata": {},
   "source": [
    "# Introduction to Phyton"
   ]
  },
  {
   "cell_type": "markdown",
   "metadata": {},
   "source": [
    "By. Rodriguez Juarez Giovanna Abigail & Martinez Alvarado Carolina"
   ]
  },
  {
   "cell_type": "markdown",
   "metadata": {},
   "source": [
    "## >Exercise 1 (A good first program)\n",
    "\n",
    "(In this part the author shows the common program called \"Hello World\", but we can write any sentence that we want like this)"
   ]
  },
  {
   "cell_type": "code",
   "execution_count": 86,
   "metadata": {},
   "outputs": [
    {
     "name": "stdout",
     "output_type": "stream",
     "text": [
      "Hello world!\n",
      "Hello again\n",
      "Believe in yourself\n",
      "Say 'yes' or 'not'\n",
      "I will survive\n"
     ]
    }
   ],
   "source": [
    "print(\"Hello world!\")\n",
    "print(\"Hello again\")\n",
    "print(\"Believe in yourself\")\n",
    "print(\"Say 'yes' or 'not'\")\n",
    "print(\"I will survive\") # Also the author shows how will be printed the code depending on the different OS, he talks about the text editors."
   ]
  },
  {
   "cell_type": "markdown",
   "metadata": {},
   "source": [
    "## >Exercise 2 (Comments and Pound Characters)\n",
    "\n",
    "The comment is a note or a reminder that you can put in your code with the help of the \"#\" starting the line. This doesn't affect to our code.  "
   ]
  },
  {
   "cell_type": "code",
   "execution_count": 87,
   "metadata": {},
   "outputs": [
    {
     "name": "stdout",
     "output_type": "stream",
     "text": [
      " I like to study Mechatronis\n"
     ]
    }
   ],
   "source": [
    "# A comment, this is so you can read your program later.\n",
    "# Anything after the # is ignored by python.\n",
    "\n",
    "print(\" I like to study Mechatronis\") # and the comment after is ignored\n",
    "\n",
    "# You can also use a comment to \"disable\" or comment out code:\n",
    "# print(\"This will not run\")\n",
    "\n",
    "#print(\"This will not run\")\n",
    "\n"
   ]
  },
  {
   "cell_type": "markdown",
   "metadata": {},
   "source": [
    "## >Exercise 3 (Numbers and Math)\n",
    "\n",
    "We can realize mathematical operation with this, so the symbols to represent this operation are:\n",
    "- plus +\n",
    "- minus -\n",
    "- slash /\n",
    "- asterisk *\n",
    "- percent %\n",
    "- less than <\n",
    "- greather than >\n",
    "- less-than-equal <=\n",
    "- greather-than-equal >="
   ]
  },
  {
   "cell_type": "code",
   "execution_count": 89,
   "metadata": {},
   "outputs": [
    {
     "name": "stdout",
     "output_type": "stream",
     "text": [
      "I will count my clothes\n",
      "Pants 13\n",
      "Shirts 21\n",
      "I wil count my skirts:\n",
      "-6.0\n",
      "Is this true 5 * 5 < 6 + 6?\n"
     ]
    }
   ],
   "source": [
    "print(\"I will count my clothes\")\n",
    "\n",
    "print(\"Pants\", 20 - 7)\n",
    "print(\"Shirts\", 13 + 8)\n",
    "\n",
    "print(\"I wil count my skirts:\")\n",
    "\n",
    "print(2 + 4 - 3 * 8 / 2)\n",
    "\n",
    "print(\"Is this true 5 * 5 < 6 + 6?\")\n",
    "\n",
    "#The operation is made and then the result is added to the line of the code"
   ]
  },
  {
   "cell_type": "markdown",
   "metadata": {},
   "source": [
    "## >Exercise 4 (Variables and Names)\n",
    "\n",
    "The variables are important in the programming languages, they are used to name the code. \"=\" this symbol is necessary to give the valor to the variable.\n"
   ]
  },
  {
   "cell_type": "code",
   "execution_count": 91,
   "metadata": {},
   "outputs": [
    {
     "name": "stdout",
     "output_type": "stream",
     "text": [
      "There are 100 chocolates availables.\n",
      "There are only 80 lollipops availables.\n",
      "We have 50 to eat.\n",
      "There are only 75 to eat.\n"
     ]
    }
   ],
   "source": [
    "chocolates = 100\n",
    "lollipops = 80\n",
    "cookies = 50\n",
    "marshmallows = 75\n",
    "\n",
    "print(\"There are\", chocolates, \"chocolates availables.\")\n",
    "print(\"There are only\", lollipops, \"lollipops availables.\")\n",
    "print(\"We have\", cookies, \"to eat.\")\n",
    "print(\"There are only\", marshmallows, \"to eat.\")\n",
    "#So with this examples we can identify how to put the variables to use them in the code."
   ]
  },
  {
   "cell_type": "markdown",
   "metadata": {},
   "source": [
    "## Exercise 5 (More Variables and Printing)\n",
    "\n",
    "The string is the text that is put between the (double quotes), but also here in this part we can see some variables in the same string like this:\n"
   ]
  },
  {
   "cell_type": "code",
   "execution_count": 92,
   "metadata": {},
   "outputs": [
    {
     "name": "stdout",
     "output_type": "stream",
     "text": [
      "The country Mexico is where I live.\n",
      "I enjoy study Mechatronics.\n",
      "I sepak Spanish.\n",
      "My name is Carolina Martinez.\n",
      "Mexico is in America, in this continent Spanish is the most spoken language.\n"
     ]
    }
   ],
   "source": [
    "my_country = 'Mexico' \n",
    "my_career = 'Mechatronics'\n",
    "my_language = 'Spanish'\n",
    "my_name = 'Carolina Martinez'\n",
    "\n",
    "#Here we have put the variables then we put the variable in the string:\n",
    "\n",
    "print(f\"The country {my_country} is where I live.\")\n",
    "print(f\"I enjoy study {my_career}.\")\n",
    "print(f\"I sepak {my_language}.\")\n",
    "print(f\"My name is {my_name}.\")\n",
    "print(f\"{my_country} is in America, in this continent {my_language} is the most spoken language.\") \n",
    "\n",
    "#We put a \"f\" of \"format\" at the beginning because we have a embed variable in a string, for example if we only put a normal sentence like in the exercise 1 we musn´t add the letter \"f\"."
   ]
  },
  {
   "cell_type": "markdown",
   "metadata": {},
   "source": [
    "## >Exercise 6 (Strings and Text)\n",
    "\n",
    "(In this exercise we will learn to call variables using strings!)\n",
    "\n",
    "A string is a method with which you can call variables already defined within the text using two auxiliaries:\n",
    "- {\" ... \"} => Brackets (With which we will call the variable)\n",
    "- f\" ... \" => Format (Which indicates that the text inside the quotes is part of a string)\n",
    "\n",
    "### _Example_"
   ]
  },
  {
   "cell_type": "code",
   "execution_count": 17,
   "metadata": {},
   "outputs": [
    {
     "name": "stdout",
     "output_type": "stream",
     "text": [
      "1.-In mecatronics of 3rd quarter there are:\n",
      ">128 students.\n",
      "\n",
      "2.-In mecatronics if us sum the total of students in each group there are:\n",
      ">59 students.\n"
     ]
    }
   ],
   "source": [
    "A = 31\n",
    "B = 22\n",
    "C = 28\n",
    "D = 23\n",
    "E = 24\n",
    "\n",
    "AC = A + C\n",
    "ABCDE = A + B + C + D + E\n",
    "\n",
    "H = \"students.\"\n",
    "G = \"In mecatronics\"\n",
    "\n",
    "print(f\"1.-{G} of 3rd quarter there are:\\n>{ABCDE} {H}\")\n",
    "print(f\"\\n2.-{G} if us sum the total of students in each group there are:\\n>{AC} {H}\")\n"
   ]
  },
  {
   "cell_type": "markdown",
   "metadata": {},
   "source": [
    "## >Exercise 7 - 9\n",
    "\n",
    "(In the next 3 exercises a review of everything previously learned will be given!)"
   ]
  },
  {
   "cell_type": "code",
   "execution_count": 84,
   "metadata": {},
   "outputs": [
    {
     "name": "stdout",
     "output_type": "stream",
     "text": [
      "1.-Now we are going to do a bunch of exercises where you just type code in and make it run. I won’t be explaining this exercise because it is more of the same. The purpose is to build up your chops.\n",
      "See you in a few exercises, and do not skip! Do not paste!\n",
      "\n",
      "2.-When I had 17 passed 5 years!\n",
      "\n",
      "....................\n",
      "\n",
      "\n",
      "I love mecatronics <3\n"
     ]
    }
   ],
   "source": [
    "# More Printing!\n",
    "\n",
    "\n",
    "# \"Print\" with a normal text\n",
    "print(\"1.-Now we are going to do a bunch of exercises where you just type code in and make it run. I won’t be explaining this exercise because it is more of the same. The purpose is to build up your chops.\\nSee you in a few exercises, and do not skip! Do not paste!\")\n",
    "\n",
    "# \"Print\" with a string\n",
    "a = 17\n",
    "b = 5\n",
    "print(f\"\\n2.-When I had {a} passed {b} years!\\n\")\n",
    "\n",
    "print(\".\" * 20) # This command separates one paragraph from another in line form.\n",
    "\n",
    "A1 = \"t\"\n",
    "A2 = \"m\"\n",
    "A3 = \"o\"\n",
    "A4 = \"a\"\n",
    "A5 = \"e\"\n",
    "A6 = \"l\"\n",
    "A7 = \"c\"\n",
    "A8 = \"v\"\n",
    "A9 = \"I\"\n",
    "A95 = \"r\"\n",
    "A63 = \"n\"\n",
    "A34 = \"i\"\n",
    "A81 = \"s\"\n",
    "\n",
    "print(\"\\n\")\n",
    "print(A9 , end=' ') # The comma before the \"end\" marks that between print and print open a space; the number of desired spaces is placed inside the parenthesis.\n",
    "print(A6 + A3 + A8 + A5 , end=' ')\n",
    "print(A2 + A5 + A7 + A4 + A1 + A95 + A3 + A63 + A34 + A7 + A81, end=' ')\n",
    "print(\"<3\")"
   ]
  },
  {
   "cell_type": "code",
   "execution_count": 83,
   "metadata": {},
   "outputs": [
    {
     "name": "stdout",
     "output_type": "stream",
     "text": [
      "    Mecatronics 3rd quarte\n",
      "Number of students per group\n",
      "\n",
      "   Group 3A 3B 3C 3D 3E\n",
      "   Stud. 31 22 28 23 24\n"
     ]
    }
   ],
   "source": [
    "# Printing, printing!\n",
    "\n",
    "#\".format\" is another way to define a variable without calling it from above. This can be placed followed by the instruction.\n",
    "# Now, this time a string defined by 5 square brackets will be made.\n",
    "\n",
    "ABC = \"{} {} {} {} {} {}\"\n",
    "\n",
    "print(\"    Mecatronics 3rd quarte\\nNumber of students per group\\n\")\n",
    "print(ABC.format(\"   Group\", \"3A\", \"3B\", \"3C\", \"3D\",\"3E\"))\n",
    "print(ABC.format(\"   Stud.\", \"31\", \"22\", \"28\", \"23\", \"24\"))\n"
   ]
  },
  {
   "cell_type": "code",
   "execution_count": 78,
   "metadata": {},
   "outputs": [
    {
     "name": "stdout",
     "output_type": "stream",
     "text": [
      "*In mecatronics there are 5 groups: 3A, 3B, 3C, 3D and 3E\n",
      "*In each group there is a leader:\n",
      " 3A.-Arturo\n",
      " 3B.-Lizet\n",
      " 3C.Walter\n",
      " 3D.-Sharon\n",
      " 3E.Carl\n",
      "\n",
      "*Some of their grades are:\n",
      " Arturo - 10\n",
      " Lizet - 9.6\n",
      " Walter - 9.9\n",
      " Sharon - 9.5\n",
      " Carl - 9.7\n",
      "\n"
     ]
    }
   ],
   "source": [
    "# Printing, printing, printing!\n",
    "\n",
    "# The word after \",\" is too a way to call a variable.\n",
    "\n",
    "AA = \"3A, 3B, 3C, 3D and 3E\"\n",
    "AB = \"3A.-Arturo\\n 3B.-Lizet\\n 3C.Walter\\n 3D.-Sharon\\n 3E.Carl\"\n",
    "\n",
    "print(\"*In mecatronics there are 5 groups:\",AA)\n",
    "print(\"*In each group there is a leader:\\n\",AB)\n",
    "print(\"\"\"\n",
    "*Some of their grades are:\n",
    " Arturo - 10\n",
    " Lizet - 9.6\n",
    " Walter - 9.9\n",
    " Sharon - 9.5\n",
    " Carl - 9.7\n",
    "\"\"\") # We can put consecutive lines if we place 3 quotes in a row."
   ]
  },
  {
   "cell_type": "markdown",
   "metadata": {},
   "source": [
    "## >Exercise 10 (What Was That?)\n",
    "\n",
    "(Through commands, some text features will be edited!)"
   ]
  },
  {
   "cell_type": "code",
   "execution_count": 82,
   "metadata": {},
   "outputs": [
    {
     "name": "stdout",
     "output_type": "stream",
     "text": [
      "\"The next list is about the people how fail the quarter for group!:\"\n",
      "\n",
      "\t*3A\n",
      "Laura \\ Michael \\ Luis\n",
      "\n",
      "\t*3B\n",
      "Manuela \\ Abby \\ Moises \\ Rodolgo\n",
      "\n",
      "\t*3C\n",
      "Rumario \\ Esther \\ Constancia \\ Luis \\ Tulio\n",
      "\n",
      "\t*3D\n",
      "Cornelio \\ Juan \\ Marcos\n",
      "\n",
      "\t*3E\n",
      ".......................\n",
      "\n"
     ]
    }
   ],
   "source": [
    "print(\"\\\"The next list is about the people how fail the quarter for group!:\\\"\") # \"\\\"\" It allows put comillas\n",
    "print(\"\"\"\n",
    "\\t*3A\n",
    "Laura \\\\ Michael \\\\ Luis\\n\n",
    "\\t*3B\n",
    "Manuela \\\\ Abby \\\\ Moises \\\\ Rodolgo\\n\n",
    "\\t*3C\n",
    "Rumario \\\\ Esther \\\\ Constancia \\\\ Luis \\\\ Tulio\\n\n",
    "\\t*3D\n",
    "Cornelio \\\\ Juan \\\\ Marcos\\n\n",
    "\\t*3E\n",
    ".......................\n",
    "\"\"\") # With \"\\t\" you can do a list."
   ]
  },
  {
   "cell_type": "code",
   "execution_count": null,
   "metadata": {},
   "outputs": [],
   "source": []
  }
 ],
 "metadata": {
  "kernelspec": {
   "display_name": "Python 3",
   "language": "python",
   "name": "python3"
  },
  "language_info": {
   "codemirror_mode": {
    "name": "ipython",
    "version": 3
   },
   "file_extension": ".py",
   "mimetype": "text/x-python",
   "name": "python",
   "nbconvert_exporter": "python",
   "pygments_lexer": "ipython3",
   "version": "3.7.3"
  }
 },
 "nbformat": 4,
 "nbformat_minor": 2
}
