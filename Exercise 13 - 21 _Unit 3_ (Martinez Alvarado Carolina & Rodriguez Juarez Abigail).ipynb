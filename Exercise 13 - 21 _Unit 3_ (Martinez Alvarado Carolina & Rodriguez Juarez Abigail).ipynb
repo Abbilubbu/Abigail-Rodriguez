{
 "cells": [
  {
   "cell_type": "markdown",
   "metadata": {},
   "source": [
    "# Exercise 13 - 21\n",
    "#### By. Martinez Alvarado Carolina & Rodriguez Juarez Giovanna Abigail"
   ]
  },
  {
   "cell_type": "markdown",
   "metadata": {},
   "source": [
    "### >Exercise 13 (Parameters, unpacking, variables)\n",
    "\n",
    "In this exercise we are shown the usefulness of the &gt;&gt; argv &lt;&lt;, which is an argument capable of importing variables into a script (As long as we have a script ready to call)"
   ]
  },
  {
   "cell_type": "code",
   "execution_count": 1,
   "metadata": {},
   "outputs": [
    {
     "name": "stdout",
     "output_type": "stream",
     "text": [
      "The script is called: C:\\Users\\Abigail\\Anaconda3\\lib\\site-packages\\ipykernel_launcher.py\n",
      "Your first variable is: -f\n",
      "Your second variable is: C:\\Users\\Abigail\\AppData\\Roaming\\jupyter\\runtime\\kernel-ce754699-81ca-4b87-9177-ebf36a82c656.json\n"
     ]
    }
   ],
   "source": [
    "# Example of PDF\n",
    "\n",
    "from sys import argv\n",
    "\n",
    "script, first, second = argv # In this section we place our variables inside the script, which will be printed at the bottom\n",
    "print(\"The script is called:\", script) \n",
    "print(\"Your first variable is:\", first)\n",
    "print(\"Your second variable is:\", second)"
   ]
  },
  {
   "cell_type": "markdown",
   "metadata": {},
   "source": [
    "### >Exercise 14 (Prompting and passing)\n",
    "\n",
    "In this exercise the option >> argv <<; is more important, since it is applied in the conversation (in this case) to call the user and name himself without the need to enter a variable. We also use the >> prompt <<, which stores all the variables we want without the need to call them within the same code."
   ]
  },
  {
   "cell_type": "code",
   "execution_count": 2,
   "metadata": {
    "scrolled": true
   },
   "outputs": [
    {
     "ename": "ValueError",
     "evalue": "too many values to unpack (expected 2)",
     "output_type": "error",
     "traceback": [
      "\u001b[1;31m---------------------------------------------------------------------------\u001b[0m",
      "\u001b[1;31mValueError\u001b[0m                                Traceback (most recent call last)",
      "\u001b[1;32m<ipython-input-2-d3f84a106437>\u001b[0m in \u001b[0;36m<module>\u001b[1;34m\u001b[0m\n\u001b[0;32m      2\u001b[0m \u001b[1;33m\u001b[0m\u001b[0m\n\u001b[0;32m      3\u001b[0m \u001b[1;32mfrom\u001b[0m \u001b[0msys\u001b[0m \u001b[1;32mimport\u001b[0m \u001b[0margv\u001b[0m\u001b[1;33m\u001b[0m\u001b[1;33m\u001b[0m\u001b[0m\n\u001b[1;32m----> 4\u001b[1;33m \u001b[0mscript\u001b[0m\u001b[1;33m,\u001b[0m \u001b[0muser_name\u001b[0m \u001b[1;33m=\u001b[0m \u001b[0margv\u001b[0m\u001b[1;33m\u001b[0m\u001b[1;33m\u001b[0m\u001b[0m\n\u001b[0m\u001b[0;32m      5\u001b[0m \u001b[0mprompt\u001b[0m \u001b[1;33m=\u001b[0m \u001b[1;34m'> '\u001b[0m\u001b[1;33m\u001b[0m\u001b[1;33m\u001b[0m\u001b[0m\n\u001b[0;32m      6\u001b[0m \u001b[1;33m\u001b[0m\u001b[0m\n",
      "\u001b[1;31mValueError\u001b[0m: too many values to unpack (expected 2)"
     ]
    }
   ],
   "source": [
    "# Example of PDF\n",
    "\n",
    "from sys import argv   \n",
    "script, user_name = argv\n",
    "prompt = '> '\n",
    "\n",
    "print(f\"Hi {user_name}, I'm the {script} script.\") \n",
    "print(\"I'd like to ask you a few questions.\")\n",
    "print(f\"Do you like me {user_name}?\")\n",
    "likes = input(prompt)\n",
    "\n",
    "print(f\"Where do you live {user_name}?\")\n",
    "lives = input(prompt)\n",
    "\n",
    "print(\"What kind of computer do you have?\")\n",
    "computer = input(prompt)\n",
    "\n",
    "print(f\"\"\"\n",
    "Alright, so you said {likes} about liking me.\n",
    "You live in {lives}. Not sure where that is.\n",
    "And you have a {computer} computer. Nice.\n",
    "\"\"\")"
   ]
  },
  {
   "cell_type": "markdown",
   "metadata": {},
   "source": [
    "### >Exercise 15 (Reading files)\n",
    "\n",
    "In this exercise we use the argument >> argv << to call a document (in .txt format) to be displayed within the code."
   ]
  },
  {
   "cell_type": "code",
   "execution_count": 3,
   "metadata": {},
   "outputs": [
    {
     "ename": "ValueError",
     "evalue": "too many values to unpack (expected 2)",
     "output_type": "error",
     "traceback": [
      "\u001b[1;31m---------------------------------------------------------------------------\u001b[0m",
      "\u001b[1;31mValueError\u001b[0m                                Traceback (most recent call last)",
      "\u001b[1;32m<ipython-input-3-2a7cfaf6b734>\u001b[0m in \u001b[0;36m<module>\u001b[1;34m\u001b[0m\n\u001b[0;32m      3\u001b[0m \u001b[1;32mfrom\u001b[0m \u001b[0msys\u001b[0m \u001b[1;32mimport\u001b[0m \u001b[0margv\u001b[0m\u001b[1;33m\u001b[0m\u001b[1;33m\u001b[0m\u001b[0m\n\u001b[0;32m      4\u001b[0m \u001b[1;33m\u001b[0m\u001b[0m\n\u001b[1;32m----> 5\u001b[1;33m \u001b[0mscript\u001b[0m\u001b[1;33m,\u001b[0m \u001b[0mfilename\u001b[0m \u001b[1;33m=\u001b[0m \u001b[0margv\u001b[0m\u001b[1;33m\u001b[0m\u001b[1;33m\u001b[0m\u001b[0m\n\u001b[0m\u001b[0;32m      6\u001b[0m \u001b[1;33m\u001b[0m\u001b[0m\n\u001b[0;32m      7\u001b[0m \u001b[0mtxt\u001b[0m \u001b[1;33m=\u001b[0m \u001b[0mopen\u001b[0m\u001b[1;33m(\u001b[0m\u001b[0mfilename\u001b[0m\u001b[1;33m)\u001b[0m\u001b[1;33m\u001b[0m\u001b[1;33m\u001b[0m\u001b[0m\n",
      "\u001b[1;31mValueError\u001b[0m: too many values to unpack (expected 2)"
     ]
    }
   ],
   "source": [
    "# Example of PDF\n",
    "\n",
    "from sys import argv\n",
    "\n",
    "script, filename = argv\n",
    "\n",
    "txt = open(filename)\n",
    "\n",
    "print(f\"Here's your file {filename}:\")\n",
    "print(txt.read())\n",
    "\n",
    "print(\"Type the filename again:\")\n",
    "file_again = input(\"> \")\n",
    "\n",
    "txt_again = open(file_again)\n",
    "\n",
    "print(txt_again.read())"
   ]
  },
  {
   "cell_type": "markdown",
   "metadata": {},
   "source": [
    "### >Exercise 16 & 17 (Reading and writing files / More files)\n",
    "\n",
    " In python there are commands that facilitate the reading, editing and deletion of a document within the same code; Some of them are: \n",
    "* Close (Close the document) \n",
    "* Read (The content of the document is shown) \n",
    "* Readline (Read a specific line) \n",
    "* Truncate (Tie the document) \n",
    "* Write ('stuff') (Overwrite part of the document or insert) \n",
    "* Seek (0) (Allows you to be in the document header)\n",
    "\n",
    "The next two codes call the documents and ask if any editing is necessary."
   ]
  },
  {
   "cell_type": "code",
   "execution_count": null,
   "metadata": {},
   "outputs": [],
   "source": [
    "# Example of PDF 16\n",
    "from sys import argv\n",
    "\n",
    "script, filename = argv\n",
    "\n",
    "print(f\"We're going to erase {filename}.\")\n",
    "print(\"If you don't want that, hit CTRL-C (^C).\")\n",
    "print(\"If you do want that, hit RETURN.\")\n",
    "\n",
    "input(\"?\")\n",
    "\n",
    "print(\"Opening the file...\")\n",
    "target = open(filename, 'w')\n",
    "\n",
    "print(\"Truncating the file. Goodbye!\")\n",
    "target.truncate()\n",
    "\n",
    "print(\"Now I'm going to ask you for three lines.\")\n",
    "\n",
    "line1 = input(\"line 1: \")\n",
    "line2 = input(\"line 2: \")\n",
    "line3 = input(\"line 3: \")\n",
    "\n",
    "print(\"I'm going to write these to the file.\")\n",
    "\n",
    "target.write(line1)\n",
    "target.write(\"\\n\")\n",
    "target.write(line2)\n",
    "target.write(\"\\n\")\n",
    "target.write(line3)\n",
    "target.write(\"\\n\")\n",
    "\n",
    "print(\"And finally, we close it.\")\n",
    "target.close()\n",
    "\n",
    "# Example of PDF 17\n",
    "\n",
    "from sys import argv\n",
    "from os.path import exists\n",
    "\n",
    "script, from_file, to_file = argv\n",
    "\n",
    "print(f\"Copying from {from_file} to {to_file}\")\n",
    "\n",
    "in_file = open(from_file)\n",
    "indata = in_file.read()\n",
    "\n",
    "print(f\"The input file is {len(indata)} bytes long\")\n",
    "\n",
    "print(f\"Does the output file exist? {exists(to_file)}\")\n",
    "print(\"Ready, hit RETURN to continue, CTRL-C to abort.\")\n",
    "input()\n",
    "\n",
    "out_file = open(to_file, 'w')\n",
    "out_file.write(indata)\n",
    "\n",
    "print(\"Alright, all done.\")\n",
    "\n",
    "out_file.close()\n",
    "in_file.close()"
   ]
  },
  {
   "cell_type": "markdown",
   "metadata": {},
   "source": [
    "### >Exercise 18 (Names, variables, code and functions)\n",
    "\n",
    "To be able to make an argument within a command we can define it with >> def <<, which will perform mini-scripts without the need to export them."
   ]
  },
  {
   "cell_type": "code",
   "execution_count": 5,
   "metadata": {},
   "outputs": [
    {
     "name": "stdout",
     "output_type": "stream",
     "text": [
      "Put two numbers:\n",
      "\n",
      ">Your first number:58\n",
      "\n",
      ">Your second number:56\n",
      "\n",
      "The result is: 114\n",
      "\n",
      "\n",
      "None\n"
     ]
    }
   ],
   "source": [
    "print(\"Put two numbers:\")\n",
    "a = int(input(\"\\n>Your first number:\"))\n",
    "b = int(input(\"\\n>Your second number:\"))\n",
    "\n",
    "def  suma(): # The function facilitates order and thematic when placing any arithmetic operation, lists etc.\n",
    "    print(\"\\nThe result is:\",a + b)\n",
    "    print(\"\\n\")\n",
    "    \n",
    "print(suma())\n",
    "\n",
    "# In the section below we can see that an >> None << appears, I can't find the reason why that happens xd"
   ]
  },
  {
   "cell_type": "markdown",
   "metadata": {},
   "source": [
    "### >Exercise 19 (Functions and variables)\n",
    "\n",
    "In the following exercise, both variables and >> def << are used to develop a code."
   ]
  },
  {
   "cell_type": "code",
   "execution_count": 30,
   "metadata": {},
   "outputs": [
    {
     "name": "stdout",
     "output_type": "stream",
     "text": [
      "How many seating do you have?\n",
      ">58\n",
      "How many party hats do you have?\n",
      ">65\n",
      "\n",
      "You have 58 seating!\n",
      "You have 65 party hats!\n",
      "\n",
      "Isn't enought for do a party :C\n",
      "\n",
      "None\n"
     ]
    }
   ],
   "source": [
    "asientos = int(input(\"How many seating do you have?\\n>\"))\n",
    "gorros = int(input(\"How many party hats do you have?\\n>\"))\n",
    "\n",
    "def asientos_gorros(asientos, gorros):\n",
    "    print(f\"\\nYou have {asientos} seating!\")\n",
    "    print(f\"You have {gorros} party hats!\")\n",
    "    if asientos == gorros:\n",
    "            print(\"\\nIs fine. You cannot a party!\")\n",
    "    else:\n",
    "            print(\"\\nIsn't enought for do a party :C\\n\")\n",
    "          \n",
    "        \n",
    "print(asientos_gorros(asientos, gorros))\n"
   ]
  },
  {
   "cell_type": "markdown",
   "metadata": {},
   "source": [
    "### >Exercise 20 (Functions and files)\n",
    "\n",
    " In this exercise we will call the variables used in exercise 17, implementing variables in the process."
   ]
  },
  {
   "cell_type": "code",
   "execution_count": 6,
   "metadata": {},
   "outputs": [
    {
     "ename": "IndentationError",
     "evalue": "expected an indented block (<ipython-input-6-afaae128d25b>, line 8)",
     "output_type": "error",
     "traceback": [
      "\u001b[1;36m  File \u001b[1;32m\"<ipython-input-6-afaae128d25b>\"\u001b[1;36m, line \u001b[1;32m8\u001b[0m\n\u001b[1;33m    print(f.read())\u001b[0m\n\u001b[1;37m        ^\u001b[0m\n\u001b[1;31mIndentationError\u001b[0m\u001b[1;31m:\u001b[0m expected an indented block\n"
     ]
    }
   ],
   "source": [
    "# Example of PDF\n",
    "\n",
    "from sys import argv\n",
    "\n",
    "script, input_file = argv\n",
    "\n",
    "def print_all(f):\n",
    "print(f.read())\n",
    "\n",
    "def rewind(f):\n",
    "f.seek(0)\n",
    "\n",
    "def print_a_line(line_count, f):\n",
    "print(line_count, f.readline())\n",
    "\n",
    "current_file = open(input_file)\n",
    "\n",
    "print(\"First let's print the whole file:\\n\")\n",
    "\n",
    "print_all(current_file)\n",
    "\n",
    "print(\"Now let's rewind, kind of like a tape.\")\n",
    "\n",
    "rewind(current_file)\n",
    "\n",
    "print(\"Let's print three lines:\")\n",
    "\n",
    "current_line = 1\n",
    "print_a_line(current_line, current_file)\n",
    "\n",
    "current_line = current_line + 1\n",
    "print_a_line(current_line, current_file)\n",
    "\n",
    "current_line = current_line + 1\n",
    "print_a_line(current_line, current_file)"
   ]
  },
  {
   "cell_type": "markdown",
   "metadata": {},
   "source": [
    "### >Exercise 21 (Functions can return something)"
   ]
  },
  {
   "cell_type": "code",
   "execution_count": 8,
   "metadata": {},
   "outputs": [
    {
     "name": "stdout",
     "output_type": "stream",
     "text": [
      "Are you man (1) or woman (2)?\n",
      ">2\n",
      "\n",
      "How old are you?\n",
      ">19\n",
      "How much do you currently weigh?\n",
      ">56.8\n",
      "How tall are you currently?\n",
      ">1.69\n",
      "\n",
      "   \n",
      ">Your prognosis in 5 years is:\n",
      "   *Will you have 24 años!\n",
      "   *Your weight will be 64.8 kg\n",
      "   *Yor height has been 1.76 m\n",
      "    \n"
     ]
    }
   ],
   "source": [
    "b = 5\n",
    "c = 8\n",
    "d = float(.07)\n",
    "e = float(.06)\n",
    "f = 10\n",
    "\n",
    "sex = int(input(\"Are you man (1) or woman (2)?\\n>\"))\n",
    "\n",
    "if sex == 1:\n",
    "    a = int(input(\"\\nHow old are you?\\n>\"))\n",
    "    peso = float(input(\"How much do you currently weigh?\\n>\"))\n",
    "    altura = float(input(\"How tall are you currently?\\n>\"))\n",
    "    \n",
    "    def age(a, b):\n",
    "        a + b\n",
    "        return a + b\n",
    "    \n",
    "    def weight(peso, f):\n",
    "        peso + f\n",
    "        return peso + f\n",
    "    \n",
    "    def height(altura, e):\n",
    "        altura + e\n",
    "        return altura + e\n",
    "    \n",
    "    print(f\"\"\"\n",
    "   \\n>Your prognosis in 5 years is:\n",
    "   *Will you have {age(a, b)} years!\n",
    "   *Your weight will be {weight(peso, f)} kg\n",
    "   *Yor height has been {height(altura, e)} m\n",
    "    \"\"\")\n",
    "    \n",
    "if sex == 2:\n",
    "    aa = int(input(\"\\nHow old are you?\\n>\"))\n",
    "    pesoa = float(input(\"How much do you currently weigh?\\n>\"))\n",
    "    alturaa = float(input(\"How tall are you currently?\\n>\"))\n",
    "    \n",
    "    def agea(aa, b):\n",
    "        aa + b\n",
    "        return aa + b\n",
    "    \n",
    "    def weighta(pesoa, c):\n",
    "        pesoa + c\n",
    "        return pesoa + c\n",
    "    \n",
    "    def heighta(alturaa, d):\n",
    "        alturaa + d\n",
    "        return alturaa + d\n",
    "    \n",
    "    print(f\"\"\"\n",
    "   \\n>Your prognosis in 5 years is:\n",
    "   *Will you have {agea(aa, b)} años!\n",
    "   *Your weight will be {weighta(pesoa, c)} kg\n",
    "   *Yor height has been {heighta(alturaa, d)} m\n",
    "    \"\"\")\n",
    "\n",
    "\n"
   ]
  },
  {
   "cell_type": "code",
   "execution_count": null,
   "metadata": {},
   "outputs": [],
   "source": []
  }
 ],
 "metadata": {
  "kernelspec": {
   "display_name": "Python 3",
   "language": "python",
   "name": "python3"
  },
  "language_info": {
   "codemirror_mode": {
    "name": "ipython",
    "version": 3
   },
   "file_extension": ".py",
   "mimetype": "text/x-python",
   "name": "python",
   "nbconvert_exporter": "python",
   "pygments_lexer": "ipython3",
   "version": "3.7.3"
  }
 },
 "nbformat": 4,
 "nbformat_minor": 2
}
