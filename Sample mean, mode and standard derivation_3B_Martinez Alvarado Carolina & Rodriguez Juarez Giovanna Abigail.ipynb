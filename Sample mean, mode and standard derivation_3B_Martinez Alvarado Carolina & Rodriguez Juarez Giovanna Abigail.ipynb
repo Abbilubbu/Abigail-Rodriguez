{
 "cells": [
  {
   "cell_type": "markdown",
   "metadata": {},
   "source": [
    "# Practice: Sample mean, mode and standard derivation!\n",
    "\n",
    "*Martinez Alvarado Carolina\n",
    "\n",
    "*Rodriguez Juarez Giovanna Abigail\n",
    "\n",
    "3B / Mecatronics"
   ]
  },
  {
   "cell_type": "code",
   "execution_count": null,
   "metadata": {},
   "outputs": [
    {
     "name": "stdout",
     "output_type": "stream",
     "text": [
      "\n",
      "(Write 0 to enter to the menu!)\n",
      "Introduce a value: 5\n",
      "\n",
      "(Write 0 to enter to the menu!)\n",
      "Introduce a value: 6\n",
      "\n",
      "(Write 0 to enter to the menu!)\n",
      "Introduce a value: 7\n",
      "\n",
      "(Write 0 to enter to the menu!)\n",
      "Introduce a value: 8\n",
      "\n",
      "(Write 0 to enter to the menu!)\n",
      "Introduce a value: 5\n",
      "\n",
      "(Write 0 to enter to the menu!)\n",
      "Introduce a value: 0\n",
      "\n",
      "What operation do you want to do?\n",
      "1.Sample mean\n",
      "2.Mode\n",
      "3.Standard derivation\n",
      "\n",
      ">3\n",
      "\n",
      "The standard derivation is:\n",
      "> 1.3038404810405295\n",
      "\n",
      "Hey: After performing your first operation it is necessary to restart the program or your results will be wrong!!\n",
      "\n",
      "(Write 0 to enter to the menu!)\n"
     ]
    }
   ],
   "source": [
    "i = 0\n",
    "n = 0\n",
    "sum_x = 0\n",
    "B = 0\n",
    "ACD = []\n",
    "\n",
    "            \n",
    "while i < 1:\n",
    "    print(\"\\n(Write 0 to enter to the menu!)\")\n",
    "    for k in range(0,1):\n",
    "        x = float(input(\"Introduce a value: \") )\n",
    "        sum_x += x\n",
    "        ACD.append(x)\n",
    "        n += 1\n",
    "        \n",
    "    if x == 0:\n",
    "        B = int(input(\"\\nWhat operation do you want to do?\\n1.Sample mean\\n2.Mode\\n3.Standard derivation\\n\\n>\"))\n",
    "    \n",
    "    #Sample mean\n",
    "        if B == 1:\n",
    "            Sample_mean = (sum_x) / (n-1)\n",
    "            print(\"\\nThe simple mean is:\\n>\", Sample_mean)\n",
    "            print(\"\\nHey: After performing your first operation it is necessary to restart the program or your results will be wrong!!\")\n",
    "            \n",
    "            \n",
    "    #Mode\n",
    "        if B == 2:\n",
    "        \n",
    "            D = 0                       # f = i / apariciones = E \n",
    "            for f in ACD:               # repeticiones = D\n",
    "                E = ACD.count(f)\n",
    "                if E > D:\n",
    "                    D = E\n",
    "            \n",
    "            modas = []\n",
    "            for f in ACD:\n",
    "                E = ACD.count(f)\n",
    "                if E == D and f not in modas:\n",
    "                    modas.append(f)\n",
    "        \n",
    "            print(\"\\nThe mode is:\\n>\", modas)\n",
    "            print(\"\\nHey: After performing your first operation it is necessary to restart the program or your results will be wrong!!\")\n",
    "            \n",
    "        if B == 3: #Standard derivation\n",
    "            \n",
    "            Sample_mean = (sum_x) / (n-1)\n",
    "            R = Sample_mean**2\n",
    "            \n",
    "            cuadrados = []\n",
    "            \n",
    "            for dato in ACD:\n",
    "                r = (dato - Sample_mean)**2\n",
    "                cuadrados.append(r)\n",
    "                desviacion = ((sum(cuadrados)-R)/(n-2))**0.5\n",
    "                \n",
    "            print(\"\\nThe standard derivation is:\\n>\", desviacion)\n",
    "            print(\"\\nHey: After performing your first operation it is necessary to restart the program or your results will be wrong!!\")"
   ]
  },
  {
   "cell_type": "code",
   "execution_count": null,
   "metadata": {},
   "outputs": [],
   "source": []
  }
 ],
 "metadata": {
  "kernelspec": {
   "display_name": "Python 3",
   "language": "python",
   "name": "python3"
  },
  "language_info": {
   "codemirror_mode": {
    "name": "ipython",
    "version": 3
   },
   "file_extension": ".py",
   "mimetype": "text/x-python",
   "name": "python",
   "nbconvert_exporter": "python",
   "pygments_lexer": "ipython3",
   "version": "3.7.3"
  }
 },
 "nbformat": 4,
 "nbformat_minor": 2
}
