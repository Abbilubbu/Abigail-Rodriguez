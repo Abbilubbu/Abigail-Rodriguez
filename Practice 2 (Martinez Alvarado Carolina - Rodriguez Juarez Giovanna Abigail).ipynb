{
 "cells": [
  {
   "cell_type": "markdown",
   "metadata": {},
   "source": [
    "# Practice 2\n",
    "## (Martinez Alvarado Carolina & Rodriguez Juarez Giovanna Abigail)"
   ]
  },
  {
   "cell_type": "code",
   "execution_count": 18,
   "metadata": {},
   "outputs": [
    {
     "name": "stdout",
     "output_type": "stream",
     "text": [
      "*Enter the number of names you want to place:\n",
      ">4\n",
      "\n",
      "Introduce a name:Abby\n",
      "\n",
      "Introduce a name:Javier\n",
      "\n",
      "Introduce a name:Walter\n",
      "\n",
      "Introduce a name:Arturo\n",
      "\n",
      "\n",
      "..................................................\n",
      "\n",
      "*These are all the names you have placed:\n",
      "Abby Javier Walter Arturo \n",
      "\n",
      "..................................................\n",
      "\n",
      "*Choose the number you want to show (You start from 0):\n",
      ">0\n",
      "\n",
      "\n",
      "*The name that corresponds to the number you entered is:\n",
      "> Abby\n"
     ]
    }
   ],
   "source": [
    "ABC = int(input(\"*Enter the number of names you want to place:\\n>\"))\n",
    "ACD = []\n",
    "total = 0\n",
    "for i in range(0,ABC):\n",
    "    x = (input(\"\\nIntroduce a name:\"))\n",
    "    ACD.append(x)\n",
    "    \n",
    "print(\"\\n\")\n",
    "print(\".\"*50)\n",
    "    \n",
    "print(\"\\n*These are all the names you have placed:\")\n",
    "\n",
    "for AA in ACD:\n",
    "        print(AA, end = ' ')\n",
    "        \n",
    "print(\"\\n\")\n",
    "print(\".\"*50)\n",
    "    \n",
    "print(\"\\n*Choose the number you want to show (You start from 0):\")\n",
    "C = int(input(\">\"))\n",
    "\n",
    "if C <= ABC:\n",
    "    print(\"\\n\")\n",
    "    print(\"*The name that corresponds to the number you entered is:\\n>\", ACD[C])\n",
    "else:\n",
    "    print(\"\\n>I can't find a name with that number, please try again!\")"
   ]
  },
  {
   "cell_type": "code",
   "execution_count": null,
   "metadata": {},
   "outputs": [],
   "source": []
  }
 ],
 "metadata": {
  "kernelspec": {
   "display_name": "Python 3",
   "language": "python",
   "name": "python3"
  },
  "language_info": {
   "codemirror_mode": {
    "name": "ipython",
    "version": 3
   },
   "file_extension": ".py",
   "mimetype": "text/x-python",
   "name": "python",
   "nbconvert_exporter": "python",
   "pygments_lexer": "ipython3",
   "version": "3.7.3"
  }
 },
 "nbformat": 4,
 "nbformat_minor": 2
}
