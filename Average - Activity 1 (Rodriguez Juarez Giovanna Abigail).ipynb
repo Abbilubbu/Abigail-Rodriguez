{
 "cells": [
  {
   "cell_type": "markdown",
   "metadata": {},
   "source": [
    "## Activity 1 (Rodriguez Juarez Giovanna Abigail)"
   ]
  },
  {
   "cell_type": "code",
   "execution_count": null,
   "metadata": {},
   "outputs": [
    {
     "name": "stdout",
     "output_type": "stream",
     "text": [
      "If you want to get the average, type 3 ages:\n",
      "*1st age:\n"
     ]
    }
   ],
   "source": [
    "print(\"If you want to get the average, type 3 ages:\")\n",
    "print(\"*1st age:\")\n",
    "a = int(input(\">\"))\n",
    "print(\"\\n*2nd age:\")\n",
    "b = int(input(\">\"))\n",
    "print(\"\\n*3rd age:\")\n",
    "c = int(input(\">\"))\n",
    "\n",
    "abc = a + b + c\n",
    "ac = abc / 3\n",
    "print(\"\")\n",
    "print(\".\" * 46)\n",
    "\n",
    "print(f\"\\nYour average is:\\n>{ac}\")"
   ]
  },
  {
   "cell_type": "code",
   "execution_count": null,
   "metadata": {},
   "outputs": [],
   "source": []
  }
 ],
 "metadata": {
  "kernelspec": {
   "display_name": "Python 3",
   "language": "python",
   "name": "python3"
  },
  "language_info": {
   "codemirror_mode": {
    "name": "ipython",
    "version": 3
   },
   "file_extension": ".py",
   "mimetype": "text/x-python",
   "name": "python",
   "nbconvert_exporter": "python",
   "pygments_lexer": "ipython3",
   "version": "3.7.3"
  }
 },
 "nbformat": 4,
 "nbformat_minor": 2
}
